{
 "cells": [
  {
   "cell_type": "raw",
   "metadata": {},
   "source": [
    "# XML example and exercise\n",
    "****\n",
    "+ study examples of accessing nodes in XML tree structure  \n",
    "+ work on exercise to be completed and submitted\n",
    "****\n",
    "+ reference: https://docs.python.org/2.7/library/xml.etree.elementtree.html\n",
    "+ data source: http://www.dbis.informatik.uni-goettingen.de/Mondial\n",
    "****"
   ]
  },
  {
   "cell_type": "code",
   "execution_count": 32,
   "metadata": {
    "collapsed": true
   },
   "outputs": [],
   "source": [
    "from xml.etree import ElementTree as ET"
   ]
  },
  {
   "cell_type": "markdown",
   "metadata": {},
   "source": [
    "## XML example\n",
    "\n",
    "+ for details about tree traversal and iterators, see https://docs.python.org/2.7/library/xml.etree.elementtree.html"
   ]
  },
  {
   "cell_type": "code",
   "execution_count": 2,
   "metadata": {
    "collapsed": true
   },
   "outputs": [],
   "source": [
    "document_tree = ET.parse( './data/mondial_database_less.xml' )"
   ]
  },
  {
   "cell_type": "code",
   "execution_count": 3,
   "metadata": {
    "collapsed": false
   },
   "outputs": [
    {
     "name": "stdout",
     "output_type": "stream",
     "text": [
      "Albania\n",
      "Greece\n",
      "Macedonia\n",
      "Serbia\n",
      "Montenegro\n",
      "Kosovo\n",
      "Andorra\n"
     ]
    }
   ],
   "source": [
    "# print names of all countries\n",
    "for child in document_tree.getroot():\n",
    "    print child.find('name').text"
   ]
  },
  {
   "cell_type": "code",
   "execution_count": 4,
   "metadata": {
    "collapsed": false
   },
   "outputs": [
    {
     "name": "stdout",
     "output_type": "stream",
     "text": [
      "* Albania: Tirana, Shkodër, Durrës, Vlorë, Elbasan, Korçë\n",
      "* Greece: Komotini, Kavala, Athina, Peiraias, Peristeri, Acharnes, Patra, Kozani, Kerkyra, Ioannina, Thessaloniki, Iraklio, Chania, Ermoupoli, Rhodes, Tripoli, Lamia, Chalkida, Larissa, Volos, Mytilini, Karyes\n",
      "* Macedonia: Skopje, Kumanovo\n",
      "* Serbia: Beograd, Novi Sad, Niš\n",
      "* Montenegro: Podgorica\n",
      "* Kosovo: Prishtine\n",
      "* Andorra: Andorra la Vella\n"
     ]
    }
   ],
   "source": [
    "# print names of all countries and their cities\n",
    "for element in document_tree.iterfind('country'):\n",
    "    print '* ' + element.find('name').text + ':',\n",
    "    capitals_string = ''\n",
    "    for subelement in element.getiterator('city'):\n",
    "        capitals_string += subelement.find('name').text + ', '\n",
    "    print capitals_string[:-2]"
   ]
  },
  {
   "cell_type": "markdown",
   "metadata": {},
   "source": [
    "****\n",
    "## XML exercise\n",
    "\n",
    "Using data in 'data/mondial_database.xml', the examples above, and refering to https://docs.python.org/2.7/library/xml.etree.elementtree.html, find\n",
    "\n",
    "1. 10 countries with the lowest infant mortality rates\n",
    "2. 10 cities with the largest population\n",
    "3. 10 ethnic groups with the largest overall populations (sum of best/latest estimates over all countries)\n",
    "4. name and country of a) longest river, b) largest lake and c) airport at highest elevation"
   ]
  },
  {
   "cell_type": "markdown",
   "metadata": {},
   "source": [
    "# 1"
   ]
  },
  {
   "cell_type": "code",
   "execution_count": 2,
   "metadata": {
    "collapsed": true
   },
   "outputs": [],
   "source": [
    "from xml.etree import ElementTree as ET\n",
    "document = ET.parse( './data/mondial_database.xml' )"
   ]
  },
  {
   "cell_type": "code",
   "execution_count": 3,
   "metadata": {
    "collapsed": false
   },
   "outputs": [
    {
     "data": {
      "text/html": [
       "<div>\n",
       "<table border=\"1\" class=\"dataframe\">\n",
       "  <thead>\n",
       "    <tr style=\"text-align: right;\">\n",
       "      <th></th>\n",
       "      <th>country</th>\n",
       "      <th>i_mort</th>\n",
       "    </tr>\n",
       "  </thead>\n",
       "  <tbody>\n",
       "    <tr>\n",
       "      <th>38</th>\n",
       "      <td>Monaco</td>\n",
       "      <td>1.81</td>\n",
       "    </tr>\n",
       "    <tr>\n",
       "      <th>98</th>\n",
       "      <td>Japan</td>\n",
       "      <td>2.13</td>\n",
       "    </tr>\n",
       "    <tr>\n",
       "      <th>36</th>\n",
       "      <td>Norway</td>\n",
       "      <td>2.48</td>\n",
       "    </tr>\n",
       "    <tr>\n",
       "      <th>117</th>\n",
       "      <td>Bermuda</td>\n",
       "      <td>2.48</td>\n",
       "    </tr>\n",
       "    <tr>\n",
       "      <th>106</th>\n",
       "      <td>Singapore</td>\n",
       "      <td>2.53</td>\n",
       "    </tr>\n",
       "    <tr>\n",
       "      <th>37</th>\n",
       "      <td>Sweden</td>\n",
       "      <td>2.60</td>\n",
       "    </tr>\n",
       "    <tr>\n",
       "      <th>10</th>\n",
       "      <td>Czech Republic</td>\n",
       "      <td>2.63</td>\n",
       "    </tr>\n",
       "    <tr>\n",
       "      <th>78</th>\n",
       "      <td>Hong Kong</td>\n",
       "      <td>2.73</td>\n",
       "    </tr>\n",
       "    <tr>\n",
       "      <th>79</th>\n",
       "      <td>Macao</td>\n",
       "      <td>3.13</td>\n",
       "    </tr>\n",
       "    <tr>\n",
       "      <th>44</th>\n",
       "      <td>Iceland</td>\n",
       "      <td>3.15</td>\n",
       "    </tr>\n",
       "    <tr>\n",
       "      <th>7</th>\n",
       "      <td>France</td>\n",
       "      <td>3.31</td>\n",
       "    </tr>\n",
       "  </tbody>\n",
       "</table>\n",
       "</div>"
      ],
      "text/plain": [
       "            country  i_mort\n",
       "38           Monaco    1.81\n",
       "98            Japan    2.13\n",
       "36           Norway    2.48\n",
       "117         Bermuda    2.48\n",
       "106       Singapore    2.53\n",
       "37           Sweden    2.60\n",
       "10   Czech Republic    2.63\n",
       "78        Hong Kong    2.73\n",
       "79            Macao    3.13\n",
       "44          Iceland    3.15\n",
       "7            France    3.31"
      ]
     },
     "execution_count": 3,
     "metadata": {},
     "output_type": "execute_result"
    }
   ],
   "source": [
    "import pandas as pd\n",
    "country = ''\n",
    "im = []\n",
    "for element in document.iterfind('country'):\n",
    "    try:\n",
    "        # Obtining country name\n",
    "        a = element.find('name').text + ','\n",
    "        # Obtining country inf mort count\n",
    "        b = element.find('infant_mortality').text\n",
    "    except AttributeError:\n",
    "        pass\n",
    "    country += a\n",
    "    im.append(float(b))\n",
    "# Creating dataframe with name, i_m rate    \n",
    "country_df = pd.DataFrame(country.split(','), columns=['country'])\n",
    "im_df = pd.DataFrame(im, columns=['i_mort'])\n",
    "frames = [country_df, im_df]\n",
    "c = pd.concat(frames, axis = 1)\n",
    "\n",
    "#sorting by lowest i_m values\n",
    "c.sort_values('i_mort', ascending=True).head(11)    \n",
    "   "
   ]
  },
  {
   "cell_type": "markdown",
   "metadata": {},
   "source": [
    "# 2"
   ]
  },
  {
   "cell_type": "code",
   "execution_count": 4,
   "metadata": {
    "collapsed": false,
    "scrolled": true
   },
   "outputs": [
    {
     "name": "stdout",
     "output_type": "stream",
     "text": [
      "9320\n",
      "9321\n",
      "9320\n"
     ]
    },
    {
     "data": {
      "text/html": [
       "<div>\n",
       "<table border=\"1\" class=\"dataframe\">\n",
       "  <thead>\n",
       "    <tr style=\"text-align: right;\">\n",
       "      <th></th>\n",
       "      <th>population</th>\n",
       "      <th>year</th>\n",
       "    </tr>\n",
       "    <tr>\n",
       "      <th>city</th>\n",
       "      <th></th>\n",
       "      <th></th>\n",
       "    </tr>\n",
       "  </thead>\n",
       "  <tbody>\n",
       "    <tr>\n",
       "      <th>Shanghai</th>\n",
       "      <td>22315474.0</td>\n",
       "      <td>2010.0</td>\n",
       "    </tr>\n",
       "    <tr>\n",
       "      <th>Istanbul</th>\n",
       "      <td>13710512.0</td>\n",
       "      <td>2012.0</td>\n",
       "    </tr>\n",
       "    <tr>\n",
       "      <th>Delhi</th>\n",
       "      <td>12877470.0</td>\n",
       "      <td>2011.0</td>\n",
       "    </tr>\n",
       "    <tr>\n",
       "      <th>Mumbai</th>\n",
       "      <td>12442373.0</td>\n",
       "      <td>2011.0</td>\n",
       "    </tr>\n",
       "    <tr>\n",
       "      <th>Moskva</th>\n",
       "      <td>11979529.0</td>\n",
       "      <td>2013.0</td>\n",
       "    </tr>\n",
       "    <tr>\n",
       "      <th>Beijing</th>\n",
       "      <td>11716620.0</td>\n",
       "      <td>2010.0</td>\n",
       "    </tr>\n",
       "    <tr>\n",
       "      <th>São Paulo</th>\n",
       "      <td>11152344.0</td>\n",
       "      <td>2010.0</td>\n",
       "    </tr>\n",
       "    <tr>\n",
       "      <th>Tianjin</th>\n",
       "      <td>11090314.0</td>\n",
       "      <td>2010.0</td>\n",
       "    </tr>\n",
       "    <tr>\n",
       "      <th>Guangzhou</th>\n",
       "      <td>11071424.0</td>\n",
       "      <td>2010.0</td>\n",
       "    </tr>\n",
       "    <tr>\n",
       "      <th>Shenzhen</th>\n",
       "      <td>10358381.0</td>\n",
       "      <td>2010.0</td>\n",
       "    </tr>\n",
       "  </tbody>\n",
       "</table>\n",
       "</div>"
      ],
      "text/plain": [
       "           population    year\n",
       "city                         \n",
       "Shanghai   22315474.0  2010.0\n",
       "Istanbul   13710512.0  2012.0\n",
       "Delhi      12877470.0  2011.0\n",
       "Mumbai     12442373.0  2011.0\n",
       "Moskva     11979529.0  2013.0\n",
       "Beijing    11716620.0  2010.0\n",
       "São Paulo  11152344.0  2010.0\n",
       "Tianjin    11090314.0  2010.0\n",
       "Guangzhou  11071424.0  2010.0\n",
       "Shenzhen   10358381.0  2010.0"
      ]
     },
     "execution_count": 4,
     "metadata": {},
     "output_type": "execute_result"
    }
   ],
   "source": [
    "city = ''\n",
    "pop = []\n",
    "year = []\n",
    "for element in document.iterfind('country'):\n",
    "    for subelement in element.getiterator('city'):\n",
    "        for populations in subelement.getiterator('population'):\n",
    "            # Obtaining city name, population count per city, per year\n",
    "            city_name = subelement.find('name').text + ','\n",
    "            city += city_name\n",
    "            population = float(populations.text)\n",
    "            pop.append(population)         \n",
    "            pop_year = int(populations.get('year'))\n",
    "            year.append(pop_year)\n",
    "\n",
    "# Creating dataframe\n",
    "city_df = pd.DataFrame(city.split(','), columns = ['city'])\n",
    "pop_df = pd.DataFrame(pop, columns = ['population'])\n",
    "year_df = pd.DataFrame(year, columns = ['year'])\n",
    "frames = [city_df, pop_df, year_df]\n",
    "print len(pop_df)\n",
    "print len(city_df)\n",
    "print len(year_df)\n",
    "c2 = pd.concat(frames, axis = 1)\n",
    "\n",
    "# Grouping by city and displaying max population across all years.\n",
    "c2.groupby(['city']).max().sort_values('population', ascending=False).head(10)\n",
    "        "
   ]
  },
  {
   "cell_type": "markdown",
   "metadata": {},
   "source": [
    "# 3"
   ]
  },
  {
   "cell_type": "markdown",
   "metadata": {
    "collapsed": false
   },
   "source": [
    "10 ethnic groups with the largest overall populations \n",
    "(sum of latest year's estimates over all countries)\n",
    "\n",
    "latest year's pop count per ethinic group (will have ot multiply pop_count by ethinic groups percentage in that country)"
   ]
  },
  {
   "cell_type": "code",
   "execution_count": 11,
   "metadata": {
    "collapsed": false,
    "scrolled": false
   },
   "outputs": [
    {
     "name": "stdout",
     "output_type": "stream",
     "text": [
      "629\n"
     ]
    },
    {
     "data": {
      "text/html": [
       "<div>\n",
       "<table border=\"1\" class=\"dataframe\">\n",
       "  <thead>\n",
       "    <tr style=\"text-align: right;\">\n",
       "      <th></th>\n",
       "      <th></th>\n",
       "      <th>percent</th>\n",
       "    </tr>\n",
       "    <tr>\n",
       "      <th>country</th>\n",
       "      <th>ethnic_group</th>\n",
       "      <th></th>\n",
       "    </tr>\n",
       "  </thead>\n",
       "  <tbody>\n",
       "    <tr>\n",
       "      <th rowspan=\"2\" valign=\"top\">Mozambique</th>\n",
       "      <th>European</th>\n",
       "      <td>0.06</td>\n",
       "    </tr>\n",
       "    <tr>\n",
       "      <th>Indian</th>\n",
       "      <td>0.08</td>\n",
       "    </tr>\n",
       "    <tr>\n",
       "      <th rowspan=\"2\" valign=\"top\">Slovakia</th>\n",
       "      <th>Polish</th>\n",
       "      <td>0.10</td>\n",
       "    </tr>\n",
       "    <tr>\n",
       "      <th>German</th>\n",
       "      <td>0.10</td>\n",
       "    </tr>\n",
       "    <tr>\n",
       "      <th>Ukraine</th>\n",
       "      <th>Jewish</th>\n",
       "      <td>0.20</td>\n",
       "    </tr>\n",
       "  </tbody>\n",
       "</table>\n",
       "</div>"
      ],
      "text/plain": [
       "                         percent\n",
       "country    ethnic_group         \n",
       "Mozambique European         0.06\n",
       "           Indian           0.08\n",
       "Slovakia   Polish           0.10\n",
       "           German           0.10\n",
       "Ukraine    Jewish           0.20"
      ]
     },
     "execution_count": 11,
     "metadata": {},
     "output_type": "execute_result"
    }
   ],
   "source": [
    "country = ''\n",
    "group = ''\n",
    "eth_percent = []\n",
    "\n",
    "for name in document.iterfind('country'):\n",
    "    for ethnicgroup in name.getiterator('ethnicgroup'):\n",
    "        for percentage in ethnicgroup.getiterator('ethnicgroup'):\n",
    "            # Obtaining percentage of each ethnic group per country. \n",
    "            country += name.find('name').text + ','\n",
    "            group += ethnicgroup.text + ','\n",
    "            eth_percent.append(float(percentage.get('percentage')))\n",
    "\n",
    "# Creating dataframe            \n",
    "country_df = pd.DataFrame(country.split(','), columns = ['country'])\n",
    "group_df = pd.DataFrame(group.split(','), columns = ['ethnic_group'])\n",
    "eth_df = pd.DataFrame(eth_percent, columns = ['percent'])\n",
    "frames = [country_df, group_df, eth_df]\n",
    "c3 = pd.concat(frames, axis = 1)\n",
    "\n",
    "# Obtaining percentage of ethnic group, per country \n",
    "c3g = c3.groupby(['country','ethnic_group']).max().sort_values('percent')\n",
    "print len(c3g)\n",
    "c3g.head()\n"
   ]
  },
  {
   "cell_type": "code",
   "execution_count": 8,
   "metadata": {
    "collapsed": false,
    "scrolled": true
   },
   "outputs": [
    {
     "name": "stdout",
     "output_type": "stream",
     "text": [
      "245\n"
     ]
    },
    {
     "data": {
      "text/html": [
       "<div>\n",
       "<table border=\"1\" class=\"dataframe\">\n",
       "  <thead>\n",
       "    <tr style=\"text-align: right;\">\n",
       "      <th></th>\n",
       "      <th>year</th>\n",
       "      <th>pop_count</th>\n",
       "    </tr>\n",
       "    <tr>\n",
       "      <th>country</th>\n",
       "      <th></th>\n",
       "      <th></th>\n",
       "    </tr>\n",
       "  </thead>\n",
       "  <tbody>\n",
       "    <tr>\n",
       "      <th>Pitcairn</th>\n",
       "      <td>1991.0</td>\n",
       "      <td>68.0</td>\n",
       "    </tr>\n",
       "    <tr>\n",
       "      <th>Guernsey</th>\n",
       "      <td>2001.0</td>\n",
       "      <td>59807.0</td>\n",
       "    </tr>\n",
       "    <tr>\n",
       "      <th>British Virgin Islands</th>\n",
       "      <td>2001.0</td>\n",
       "      <td>23161.0</td>\n",
       "    </tr>\n",
       "    <tr>\n",
       "      <th>New Caledonia</th>\n",
       "      <td>2009.0</td>\n",
       "      <td>245580.0</td>\n",
       "    </tr>\n",
       "    <tr>\n",
       "      <th>Sierra Leone</th>\n",
       "      <td>2010.0</td>\n",
       "      <td>5751976.0</td>\n",
       "    </tr>\n",
       "  </tbody>\n",
       "</table>\n",
       "</div>"
      ],
      "text/plain": [
       "                          year  pop_count\n",
       "country                                  \n",
       "Pitcairn                1991.0       68.0\n",
       "Guernsey                2001.0    59807.0\n",
       "British Virgin Islands  2001.0    23161.0\n",
       "New Caledonia           2009.0   245580.0\n",
       "Sierra Leone            2010.0  5751976.0"
      ]
     },
     "execution_count": 8,
     "metadata": {},
     "output_type": "execute_result"
    }
   ],
   "source": [
    "country = ''\n",
    "pop = []\n",
    "year = []\n",
    "\n",
    "for name in document.iterfind('country'):\n",
    "    for population in name.getiterator('population'):\n",
    "        for years in population.getiterator('population'):\n",
    "            country += name.find('name').text + ','\n",
    "            pop.append(int(population.text))\n",
    "            year.append(int(years.get('year')))\n",
    "            \n",
    "                    \n",
    "country_df = pd.DataFrame(country.split(','), columns = ['country'])\n",
    "year_df = pd.DataFrame(year, columns = ['year'])\n",
    "pop_df = pd.DataFrame(pop, columns = ['pop_count'])\n",
    "frames = [country_df, year_df, pop_df]\n",
    "\n",
    "# Obtaining country's population count from most recent year.\n",
    "c4 = pd.concat(frames, axis = 1)\n",
    "c4g = c4.groupby(['country']).max().sort_values('year')\n",
    "\n",
    "print len(c4g)\n",
    "c4g.head()\n"
   ]
  },
  {
   "cell_type": "code",
   "execution_count": 12,
   "metadata": {
    "collapsed": false,
    "scrolled": true
   },
   "outputs": [
    {
     "name": "stdout",
     "output_type": "stream",
     "text": [
      "629\n"
     ]
    },
    {
     "data": {
      "text/html": [
       "<div>\n",
       "<table border=\"1\" class=\"dataframe\">\n",
       "  <thead>\n",
       "    <tr style=\"text-align: right;\">\n",
       "      <th></th>\n",
       "      <th></th>\n",
       "      <th>percent</th>\n",
       "      <th>year</th>\n",
       "      <th>pop_count</th>\n",
       "      <th>eth_count</th>\n",
       "    </tr>\n",
       "    <tr>\n",
       "      <th>country</th>\n",
       "      <th>ethnic_group</th>\n",
       "      <th></th>\n",
       "      <th></th>\n",
       "      <th></th>\n",
       "      <th></th>\n",
       "    </tr>\n",
       "  </thead>\n",
       "  <tbody>\n",
       "    <tr>\n",
       "      <th rowspan=\"2\" valign=\"top\">Mozambique</th>\n",
       "      <th>European</th>\n",
       "      <td>0.06</td>\n",
       "      <td>2012.0</td>\n",
       "      <td>23700715.0</td>\n",
       "      <td>1422042.9</td>\n",
       "    </tr>\n",
       "    <tr>\n",
       "      <th>Indian</th>\n",
       "      <td>0.08</td>\n",
       "      <td>2012.0</td>\n",
       "      <td>23700715.0</td>\n",
       "      <td>1896057.2</td>\n",
       "    </tr>\n",
       "    <tr>\n",
       "      <th rowspan=\"2\" valign=\"top\">Slovakia</th>\n",
       "      <th>Polish</th>\n",
       "      <td>0.10</td>\n",
       "      <td>2011.0</td>\n",
       "      <td>5397036.0</td>\n",
       "      <td>539703.6</td>\n",
       "    </tr>\n",
       "    <tr>\n",
       "      <th>German</th>\n",
       "      <td>0.10</td>\n",
       "      <td>2011.0</td>\n",
       "      <td>5397036.0</td>\n",
       "      <td>539703.6</td>\n",
       "    </tr>\n",
       "    <tr>\n",
       "      <th>Ukraine</th>\n",
       "      <th>Jewish</th>\n",
       "      <td>0.20</td>\n",
       "      <td>2012.0</td>\n",
       "      <td>51706742.0</td>\n",
       "      <td>10341348.4</td>\n",
       "    </tr>\n",
       "    <tr>\n",
       "      <th>Ghana</th>\n",
       "      <th>European</th>\n",
       "      <td>0.20</td>\n",
       "      <td>2010.0</td>\n",
       "      <td>24658823.0</td>\n",
       "      <td>4931764.6</td>\n",
       "    </tr>\n",
       "    <tr>\n",
       "      <th>Morocco</th>\n",
       "      <th>Jewish</th>\n",
       "      <td>0.20</td>\n",
       "      <td>2014.0</td>\n",
       "      <td>32901622.0</td>\n",
       "      <td>6580324.4</td>\n",
       "    </tr>\n",
       "    <tr>\n",
       "      <th>Mozambique</th>\n",
       "      <th>Euro-African</th>\n",
       "      <td>0.20</td>\n",
       "      <td>2012.0</td>\n",
       "      <td>23700715.0</td>\n",
       "      <td>4740143.0</td>\n",
       "    </tr>\n",
       "    <tr>\n",
       "      <th>Bulgaria</th>\n",
       "      <th>Russian</th>\n",
       "      <td>0.20</td>\n",
       "      <td>2012.0</td>\n",
       "      <td>8948649.0</td>\n",
       "      <td>1789729.8</td>\n",
       "    </tr>\n",
       "    <tr>\n",
       "      <th>Romania</th>\n",
       "      <th>Turkish</th>\n",
       "      <td>0.20</td>\n",
       "      <td>2011.0</td>\n",
       "      <td>22810035.0</td>\n",
       "      <td>4562007.0</td>\n",
       "    </tr>\n",
       "  </tbody>\n",
       "</table>\n",
       "</div>"
      ],
      "text/plain": [
       "                         percent    year   pop_count   eth_count\n",
       "country    ethnic_group                                         \n",
       "Mozambique European         0.06  2012.0  23700715.0   1422042.9\n",
       "           Indian           0.08  2012.0  23700715.0   1896057.2\n",
       "Slovakia   Polish           0.10  2011.0   5397036.0    539703.6\n",
       "           German           0.10  2011.0   5397036.0    539703.6\n",
       "Ukraine    Jewish           0.20  2012.0  51706742.0  10341348.4\n",
       "Ghana      European         0.20  2010.0  24658823.0   4931764.6\n",
       "Morocco    Jewish           0.20  2014.0  32901622.0   6580324.4\n",
       "Mozambique Euro-African     0.20  2012.0  23700715.0   4740143.0\n",
       "Bulgaria   Russian          0.20  2012.0   8948649.0   1789729.8\n",
       "Romania    Turkish          0.20  2011.0  22810035.0   4562007.0"
      ]
     },
     "execution_count": 12,
     "metadata": {},
     "output_type": "execute_result"
    }
   ],
   "source": [
    "# Obtaining ethnic group count at most recent year.\n",
    "joined_df = c3g.join(c4g)\n",
    "joined_df['eth_count'] = (joined_df['pop_count'] * joined_df['percent'])\n",
    "print(len(joined_df))\n",
    "joined_df.head(10)"
   ]
  },
  {
   "cell_type": "code",
   "execution_count": 640,
   "metadata": {
    "collapsed": false
   },
   "outputs": [
    {
     "data": {
      "text/html": [
       "<div>\n",
       "<table border=\"1\" class=\"dataframe\">\n",
       "  <thead>\n",
       "    <tr style=\"text-align: right;\">\n",
       "      <th></th>\n",
       "      <th>country</th>\n",
       "      <th>ethnic_group</th>\n",
       "      <th>percent</th>\n",
       "      <th>year</th>\n",
       "      <th>pop_count</th>\n",
       "      <th>eth_count</th>\n",
       "    </tr>\n",
       "  </thead>\n",
       "  <tbody>\n",
       "    <tr>\n",
       "      <th>0</th>\n",
       "      <td>Mozambique</td>\n",
       "      <td>European</td>\n",
       "      <td>0.06</td>\n",
       "      <td>2012.0</td>\n",
       "      <td>23700715.0</td>\n",
       "      <td>1422042.9</td>\n",
       "    </tr>\n",
       "    <tr>\n",
       "      <th>1</th>\n",
       "      <td>Mozambique</td>\n",
       "      <td>Indian</td>\n",
       "      <td>0.08</td>\n",
       "      <td>2012.0</td>\n",
       "      <td>23700715.0</td>\n",
       "      <td>1896057.2</td>\n",
       "    </tr>\n",
       "    <tr>\n",
       "      <th>2</th>\n",
       "      <td>Slovakia</td>\n",
       "      <td>Polish</td>\n",
       "      <td>0.10</td>\n",
       "      <td>2011.0</td>\n",
       "      <td>5397036.0</td>\n",
       "      <td>539703.6</td>\n",
       "    </tr>\n",
       "    <tr>\n",
       "      <th>3</th>\n",
       "      <td>Slovakia</td>\n",
       "      <td>German</td>\n",
       "      <td>0.10</td>\n",
       "      <td>2011.0</td>\n",
       "      <td>5397036.0</td>\n",
       "      <td>539703.6</td>\n",
       "    </tr>\n",
       "    <tr>\n",
       "      <th>4</th>\n",
       "      <td>Ukraine</td>\n",
       "      <td>Jewish</td>\n",
       "      <td>0.20</td>\n",
       "      <td>2012.0</td>\n",
       "      <td>51706742.0</td>\n",
       "      <td>10341348.4</td>\n",
       "    </tr>\n",
       "    <tr>\n",
       "      <th>5</th>\n",
       "      <td>Ghana</td>\n",
       "      <td>European</td>\n",
       "      <td>0.20</td>\n",
       "      <td>2010.0</td>\n",
       "      <td>24658823.0</td>\n",
       "      <td>4931764.6</td>\n",
       "    </tr>\n",
       "    <tr>\n",
       "      <th>6</th>\n",
       "      <td>Morocco</td>\n",
       "      <td>Jewish</td>\n",
       "      <td>0.20</td>\n",
       "      <td>2014.0</td>\n",
       "      <td>32901622.0</td>\n",
       "      <td>6580324.4</td>\n",
       "    </tr>\n",
       "    <tr>\n",
       "      <th>7</th>\n",
       "      <td>Mozambique</td>\n",
       "      <td>Euro-African</td>\n",
       "      <td>0.20</td>\n",
       "      <td>2012.0</td>\n",
       "      <td>23700715.0</td>\n",
       "      <td>4740143.0</td>\n",
       "    </tr>\n",
       "    <tr>\n",
       "      <th>8</th>\n",
       "      <td>Bulgaria</td>\n",
       "      <td>Russian</td>\n",
       "      <td>0.20</td>\n",
       "      <td>2012.0</td>\n",
       "      <td>8948649.0</td>\n",
       "      <td>1789729.8</td>\n",
       "    </tr>\n",
       "    <tr>\n",
       "      <th>9</th>\n",
       "      <td>Romania</td>\n",
       "      <td>Turkish</td>\n",
       "      <td>0.20</td>\n",
       "      <td>2011.0</td>\n",
       "      <td>22810035.0</td>\n",
       "      <td>4562007.0</td>\n",
       "    </tr>\n",
       "  </tbody>\n",
       "</table>\n",
       "</div>"
      ],
      "text/plain": [
       "      country  ethnic_group  percent    year   pop_count   eth_count\n",
       "0  Mozambique      European     0.06  2012.0  23700715.0   1422042.9\n",
       "1  Mozambique        Indian     0.08  2012.0  23700715.0   1896057.2\n",
       "2    Slovakia        Polish     0.10  2011.0   5397036.0    539703.6\n",
       "3    Slovakia        German     0.10  2011.0   5397036.0    539703.6\n",
       "4     Ukraine        Jewish     0.20  2012.0  51706742.0  10341348.4\n",
       "5       Ghana      European     0.20  2010.0  24658823.0   4931764.6\n",
       "6     Morocco        Jewish     0.20  2014.0  32901622.0   6580324.4\n",
       "7  Mozambique  Euro-African     0.20  2012.0  23700715.0   4740143.0\n",
       "8    Bulgaria       Russian     0.20  2012.0   8948649.0   1789729.8\n",
       "9     Romania       Turkish     0.20  2011.0  22810035.0   4562007.0"
      ]
     },
     "execution_count": 640,
     "metadata": {},
     "output_type": "execute_result"
    }
   ],
   "source": [
    "# reseting index\n",
    "joined_df_reset = joined_df.reset_index()\n",
    "joined_df_reset.head(10)"
   ]
  },
  {
   "cell_type": "code",
   "execution_count": 638,
   "metadata": {
    "collapsed": false
   },
   "outputs": [
    {
     "data": {
      "text/html": [
       "<div>\n",
       "<table border=\"1\" class=\"dataframe\">\n",
       "  <thead>\n",
       "    <tr style=\"text-align: right;\">\n",
       "      <th></th>\n",
       "      <th>eth_count</th>\n",
       "    </tr>\n",
       "    <tr>\n",
       "      <th>ethnic_group</th>\n",
       "      <th></th>\n",
       "    </tr>\n",
       "  </thead>\n",
       "  <tbody>\n",
       "    <tr>\n",
       "      <th>Han Chinese</th>\n",
       "      <td>1.245059e+11</td>\n",
       "    </tr>\n",
       "    <tr>\n",
       "      <th>Indo-Aryan</th>\n",
       "      <td>8.718156e+10</td>\n",
       "    </tr>\n",
       "    <tr>\n",
       "      <th>European</th>\n",
       "      <td>4.949395e+10</td>\n",
       "    </tr>\n",
       "    <tr>\n",
       "      <th>African</th>\n",
       "      <td>3.183597e+10</td>\n",
       "    </tr>\n",
       "    <tr>\n",
       "      <th>Dravidian</th>\n",
       "      <td>3.027137e+10</td>\n",
       "    </tr>\n",
       "    <tr>\n",
       "      <th>Mestizo</th>\n",
       "      <td>1.578553e+10</td>\n",
       "    </tr>\n",
       "    <tr>\n",
       "      <th>Bengali</th>\n",
       "      <td>1.467769e+10</td>\n",
       "    </tr>\n",
       "    <tr>\n",
       "      <th>Russian</th>\n",
       "      <td>1.368666e+10</td>\n",
       "    </tr>\n",
       "    <tr>\n",
       "      <th>Japanese</th>\n",
       "      <td>1.272890e+10</td>\n",
       "    </tr>\n",
       "    <tr>\n",
       "      <th>Malay</th>\n",
       "      <td>1.219936e+10</td>\n",
       "    </tr>\n",
       "  </tbody>\n",
       "</table>\n",
       "</div>"
      ],
      "text/plain": [
       "                 eth_count\n",
       "ethnic_group              \n",
       "Han Chinese   1.245059e+11\n",
       "Indo-Aryan    8.718156e+10\n",
       "European      4.949395e+10\n",
       "African       3.183597e+10\n",
       "Dravidian     3.027137e+10\n",
       "Mestizo       1.578553e+10\n",
       "Bengali       1.467769e+10\n",
       "Russian       1.368666e+10\n",
       "Japanese      1.272890e+10\n",
       "Malay         1.219936e+10"
      ]
     },
     "execution_count": 638,
     "metadata": {},
     "output_type": "execute_result"
    }
   ],
   "source": [
    "# Total number of people per ethnic group aggregated across all countries.\n",
    "final_table = joined_df_reset[['ethnic_group', 'eth_count']]\n",
    "final_table.groupby(\"ethnic_group\").sum().sort_values('eth_count', ascending=False).head(10)"
   ]
  },
  {
   "cell_type": "raw",
   "metadata": {},
   "source": [
    "                            ###NOTES###\n",
    "    \n",
    "for populations in subelement.getiterator('population'):\n",
    "            city_name = subelement.find('name').text + ','\n",
    "            city += city_name\n",
    "            #print populations.get('ethnicgroup')\n",
    "            population = float(populations.text)\n",
    "            pop.append(population)         \n",
    "            pop_year = int(populations.get('year'))\n",
    "            year.append(pop_year)\n",
    "city_df = pd.DataFrame(city.split(','), columns = ['city'])\n",
    "pop_df = pd.DataFrame(pop, columns = ['population'])\n",
    "year_df = pd.DataFrame(year, columns = ['year'])\n",
    "frames = [city_df, pop_df, year_df]\n",
    "#print len(pop_df)\n",
    "#print len(city_df)\n",
    "#print len(year_df)\n",
    "#c2 = pd.concat(frames, axis = 1)\n",
    "#c2.groupby(['city']).max().sort_values('population', ascending=False).head(10)\n",
    "\n",
    "-----------------\n",
    "country = ''\n",
    "group = ''\n",
    "eth_percent = []\n",
    "pop = []\n",
    "year = []\n",
    "\n",
    "for name in document.iterfind('country'):\n",
    "    #print name.find('name').text + ','\n",
    "    for population in name.getiterator('population'):\n",
    "        #pop.append(int(population.text))\n",
    "        #print population.text\n",
    "        for years in population.getiterator('population'):\n",
    "            pop.append(int(population.text))\n",
    "            year.append(int(years.get('year')))\n",
    "            #print years.get('year')\n",
    "    for ethnicgroup in name.getiterator('ethnicgroup'):\n",
    "        #country += name.find('name').text + ','\n",
    "        #group += ethnicgroup.text + ','\n",
    "        #print ethnicgroup.text\n",
    "        for percentages in ethnicgroup.getiterator('ethnicgroup'):\n",
    "            country += name.find('name').text + ','\n",
    "            group += ethnicgroup.text + ','\n",
    "            #print float(percentages.get('percentage'))\n",
    "            eth_percent.append(float(percentages.get('percentage')))\n",
    "country_df = pd.DataFrame(country.split(','), columns = ['country'])\n",
    "group_df = pd.DataFrame(group.split(','), columns = ['ethnic_group'])\n",
    "year_df = pd.DataFrame(year, columns = ['year'])\n",
    "pop_df = pd.DataFrame(pop, columns = ['pop_count'])\n",
    "eth_df = pd.DataFrame(eth_percent, columns = ['percent'])\n",
    "#frames = [country_df, group_df]\n",
    "frames = [group_df, eth_df]\n",
    "\n",
    "#print group_df\n",
    "c3 = pd.concat(frames, axis = 1)\n",
    "#c3"
   ]
  },
  {
   "cell_type": "markdown",
   "metadata": {},
   "source": [
    "# 4"
   ]
  },
  {
   "cell_type": "code",
   "execution_count": null,
   "metadata": {
    "collapsed": true
   },
   "outputs": [],
   "source": [
    "name and country of a) longest river, b) largest lake and c) airport at highest elevation"
   ]
  },
  {
   "cell_type": "code",
   "execution_count": null,
   "metadata": {
    "collapsed": true
   },
   "outputs": [],
   "source": [
    "country = ''\n",
    "city = ''\n",
    "river_len = []\n",
    "lake_size = []\n",
    "airport_ele = []\n",
    "for element in document.iterfind('country'):\n",
    "    for subelement in element.getiterator('city'):\n",
    "        for populations in subelement.getiterator('population'):\n",
    "            city_name = subelement.find('name').text + ','\n",
    "            city += city_name\n",
    "            population = float(populations.text)\n",
    "            pop.append(population)         \n",
    "            pop_year = int(populations.get('year'))\n",
    "            year.append(pop_year)\n",
    "city_df = pd.DataFrame(city.split(','), columns = ['city'])\n",
    "pop_df = pd.DataFrame(pop, columns = ['population'])\n",
    "year_df = pd.DataFrame(year, columns = ['year'])\n",
    "frames = [city_df, pop_df, year_df]\n",
    "print len(pop_df)\n",
    "print len(city_df)\n",
    "print len(year_df)\n",
    "c2 = pd.concat(frames, axis = 1)\n",
    "c2.groupby(['city']).max().sort_values('population', ascending=False).head(10)\n",
    "        "
   ]
  }
 ],
 "metadata": {
  "kernelspec": {
   "display_name": "Python 2",
   "language": "python",
   "name": "python2"
  },
  "language_info": {
   "codemirror_mode": {
    "name": "ipython",
    "version": 2
   },
   "file_extension": ".py",
   "mimetype": "text/x-python",
   "name": "python",
   "nbconvert_exporter": "python",
   "pygments_lexer": "ipython2",
   "version": "2.7.11"
  }
 },
 "nbformat": 4,
 "nbformat_minor": 0
}
